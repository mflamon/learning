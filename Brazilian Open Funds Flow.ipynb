{
 "cells": [
  {
   "cell_type": "markdown",
   "metadata": {},
   "source": [
    "#This is a personal project to evaluate net money flows into Brazilian funds from 2021 to 2023 using CVM (Brazilian SEC) raw data. \n",
    "#Please note that it was a \"learn as you code\" personal project using AI helpers and YouTube Tutorials. Comments are welcome!"
   ]
  },
  {
   "cell_type": "code",
   "execution_count": null,
   "metadata": {},
   "outputs": [],
   "source": [
    "import pandas as pd\n",
    "import requests\n",
    "import os\n",
    "import zipfile\n",
    "import io\n",
    "import matplotlib.pyplot as plt"
   ]
  },
  {
   "cell_type": "code",
   "execution_count": null,
   "metadata": {},
   "outputs": [],
   "source": [
    "#Download the files:\n",
    "# Specify the base URL\n",
    "base_url = \"https://dados.cvm.gov.br/dados/FI/DOC/INF_DIARIO/DADOS/inf_diario_fi_{:02d}{:02d}.zip\"\n",
    "\n",
    "# Specify the range of years you want to download\n",
    "start_year = 2021\n",
    "end_year = 2023\n",
    "# Specify the range of years you want to download\n",
    "start_month = 1\n",
    "end_month = 12\n",
    "\n",
    "# Specify the directory to save the downloaded files\n",
    "\n",
    "download_directory = \"Fundos_555\"\n",
    "\n",
    "# Create the download directory if it doesn't exist\n",
    "os.makedirs(download_directory, exist_ok=True)\n",
    "\n",
    "# Loop through the years and download the files\n",
    "for year in range(start_year, end_year + 1):\n",
    "    for month in range(start_month, end_month + 1):\n",
    "        # Create the URL for each month\n",
    "        url = base_url.format(year, month)\n",
    "        filename = f\"inf_diario_fi_{year}{month}.zip\"\n",
    "        filepath = os.path.join(download_directory, filename)\n",
    "\n",
    "        # Download the file\n",
    "        response = requests.get(url)\n",
    "        with open(filepath, 'wb') as file:\n",
    "            file.write(response.content)\n",
    "\n",
    "        print(f\"Downloaded {filename}\")\n",
    "\n",
    "print(\"Download complete!\")"
   ]
  },
  {
   "cell_type": "code",
   "execution_count": null,
   "metadata": {},
   "outputs": [],
   "source": [
    "# Open the files:\n",
    "base_path = r\"H:\\Meu Drive\\Py Projects\\CVM 555\\Fundos_555\"\n",
    "arquivo_zip = \"inf_diario_fi_{}{}.zip\"\n",
    "arquivo_csv = \"inf_diario_fi_{}{:02d}.csv\"\n",
    "\n",
    "# Specify the range of years and months you want to download\n",
    "start_year = 2021\n",
    "end_year = 2023\n",
    "start_month = 1\n",
    "end_month = 12\n",
    "\n",
    "download_directory = \"Fundos_555\"\n",
    "\n",
    "# Store DataFrames in a list for concatenation\n",
    "dataframes_to_concat = []\n",
    "\n",
    "for year in range(start_year, end_year + 1):\n",
    "    for month in range(start_month, end_month + 1):\n",
    "        archive_name = arquivo_zip.format(year, month)\n",
    "        archive_path = os.path.join(base_path, archive_name)\n",
    "        csv_name = arquivo_csv.format(year, month)\n",
    "\n",
    "        with zipfile.ZipFile(archive_path) as zip_file:\n",
    "            with zip_file.open(csv_name) as csv_file:\n",
    "                lines = csv_file.readlines()\n",
    "\n",
    "                # Clean and format data\n",
    "                lines = [i.strip().decode('ISO-8859-1') for i in lines]\n",
    "                lines = [i.split(';') for i in lines]\n",
    "\n",
    "                # Create a DataFrame for the current CSV\n",
    "                if_to_add = pd.DataFrame(lines[1:], columns=lines[0])\n",
    "                dataframes_to_concat.append(if_to_add)\n",
    "\n",
    "# Concatenate all DataFrames in the list\n",
    "if_cvm_raw = pd.concat(dataframes_to_concat, ignore_index=True)\n",
    "\n",
    "if_cvm_raw"
   ]
  },
  {
   "cell_type": "code",
   "execution_count": null,
   "metadata": {},
   "outputs": [],
   "source": [
    "#transform the values on the column 'NR_COTST' to numeric and keep all the pandas dataframe\n",
    "if_cvm_raw['NR_COTST'] = pd.to_numeric(if_cvm_raw['NR_COTST'], errors='coerce')\n",
    "#filter to get only values on column 'nr_cotst' higher than 100\n",
    "if_cvm_raw = if_cvm_raw[if_cvm_raw['NR_COTST'] > 100]\n",
    "if_cvm_raw"
   ]
  },
  {
   "cell_type": "code",
   "execution_count": null,
   "metadata": {},
   "outputs": [],
   "source": [
    "#download funds informations:\n",
    "url = \"https://dados.cvm.gov.br/dados/FI/CAD/DADOS/cad_fi.csv\"\n",
    "cadastro_raw = pd.read_csv(url,sep=';',encoding='ISO-8859-1')   \n",
    "\n",
    "#choose only the columns that I want to see\n",
    "cadastro_cvm = cadastro_raw[['TP_FUNDO','CNPJ_FUNDO', 'DENOM_SOCIAL', 'DT_REG', 'DT_CONST', 'CD_CVM', 'DT_CANCEL', 'SIT', 'CLASSE', 'DT_INI_CLASSE', 'FUNDO_EXCLUSIVO','TAXA_PERFM','INF_TAXA_PERFM', 'TAXA_ADM', 'INF_TAXA_ADM','DIRETOR', 'CNPJ_ADMIN', 'ADMIN','PF_PJ_GESTOR','CPF_CNPJ_GESTOR', 'GESTOR','CONTROLADOR', 'CLASSE_ANBIMA']]\n",
    "cadastro_merge = cadastro_cvm[['TP_FUNDO','CNPJ_FUNDO', 'DENOM_SOCIAL', 'DT_REG', 'DT_CONST', 'CD_CVM', 'DT_CANCEL', 'SIT', 'CLASSE', 'FUNDO_EXCLUSIVO', 'GESTOR', 'CLASSE_ANBIMA']]"
   ]
  },
  {
   "cell_type": "code",
   "execution_count": null,
   "metadata": {},
   "outputs": [],
   "source": [
    "#merge both DFs\n",
    "if_cadastro_cvm = if_cvm_raw.merge(cadastro_merge,on='CNPJ_FUNDO', suffixes=('_if','_cd'))"
   ]
  },
  {
   "cell_type": "code",
   "execution_count": null,
   "metadata": {},
   "outputs": [],
   "source": [
    "#filter to get only the funds with more than 100 investors. Exclude 'exclusive funds' just to make sure.\n",
    "if_filter = if_cadastro_cvm[(if_cadastro_cvm['NR_COTST'] > 100) & (if_cadastro_cvm['FUNDO_EXCLUSIVO'] == \"N\")]"
   ]
  },
  {
   "cell_type": "code",
   "execution_count": null,
   "metadata": {},
   "outputs": [],
   "source": [
    "#check values on fund classifications:\n",
    "classe_anbima = if_filter[['CLASSE','CLASSE_ANBIMA']].drop_duplicates()\n",
    "classe_anbima\n",
    "#.csv file is still easier for me to read over\n",
    "classe_anbima.to_csv('classe_anbima.csv', index=False)"
   ]
  },
  {
   "cell_type": "code",
   "execution_count": null,
   "metadata": {},
   "outputs": [],
   "source": [
    "#Create DF to evaluate net money flows:\n",
    "fundos_moneyflow = if_filter[['DT_COMPTC', 'CLASSE','CAPTC_DIA', 'RESG_DIA']].copy()\n",
    "\n",
    "# Convert 'DT_COMPTC' column to datetime\n",
    "fundos_moneyflow['DT_COMPTC'] = pd.to_datetime(fundos_moneyflow['DT_COMPTC'])\n",
    "\n",
    "# Select columns 'CAPTC_DIA' and 'RESG_DIA' and convert to float\n",
    "fundos_moneyflow[['CAPTC_DIA', 'RESG_DIA']] = fundos_moneyflow[['CAPTC_DIA', 'RESG_DIA']].astype(float)\n",
    "fundos_moneyflow['CLASSE']=fundos_moneyflow['CLASSE'].astype(str)\n",
    "# Create a new column 'NET_CAPTC'\n",
    "fundos_moneyflow['NET_CAPTC'] = fundos_moneyflow['CAPTC_DIA'] - fundos_moneyflow['RESG_DIA']\n",
    "\n",
    "# Display the resulting DataFrame and check formats\n",
    "fundos_moneyflow = pd.DataFrame(fundos_moneyflow[fundos_moneyflow['CLASSE'].isin(['Fundo de Ações', 'Fundo de Renda Fixa', 'Fundo Multimercado'])])\n",
    "fundos_moneyflow.info()"
   ]
  },
  {
   "cell_type": "code",
   "execution_count": null,
   "metadata": {},
   "outputs": [],
   "source": [
    "#adjust to numeric and friendly format - hard time learning how to properly adjust it the way i want!\n",
    "pd.options.display.float_format = '{:,.2f}'.format\n",
    "\n",
    "fundos_group = fundos_moneyflow.groupby(['CLASSE','DT_COMPTC'])['NET_CAPTC'].sum()\n",
    "#groupby the fundos_moneyflow DataFrame by 'CLASSE' and 'DT_COMPTC' and sum the 'NET_CAPTC' column\n",
    "fundos_group = pd.DataFrame(fundos_group)\n",
    "#add the cumulative sum of the 'NET_CAPTC' column\n",
    "fundos_group['CUM_NET_CAPTC'] = fundos_group.groupby(level=0)['NET_CAPTC'].cumsum()\n",
    "fundos_group\n",
    "##plot a line chart of the 'CUM_NET_CAPTC' column for each 'CLASSE' and format the y-axis in millions BRL\n",
    "fundos_group.unstack(level=0)['CUM_NET_CAPTC'].plot(figsize=(15,8), title='Captação Líquida por Classe de Fundo', ylabel='Captação Líquida')\n",
    "#fix the y-axis tick labels\n",
    "plt.gca().yaxis.set_major_formatter('{x:,.0f}')\n",
    "\n",
    "#fix the x-axis tick labels and add a legend\n",
    "plt.gca().set_xticklabels(fundos_group.index.get_level_values(1).strftime('%Y-%m'))\n",
    "plt.legend(title='Classe de Fundo', loc='upper left')\n",
    "\n",
    "#show graph for evaluating money flows for Fixed Income, Equity and Hedge Funds over the period\n",
    "plt.show()"
   ]
  }
 ],
 "metadata": {
  "language_info": {
   "name": "python"
  }
 },
 "nbformat": 4,
 "nbformat_minor": 2
}
